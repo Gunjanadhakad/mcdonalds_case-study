{
 "cells": [
  {
   "cell_type": "code",
   "execution_count": 1,
   "id": "c79610b4",
   "metadata": {
    "_cell_guid": "b1076dfc-b9ad-4769-8c92-a6c4dae69d19",
    "_uuid": "8f2839f25d086af736a60e9eeb907d3b93b6e0e5",
    "execution": {
     "iopub.execute_input": "2023-06-07T16:47:19.088409Z",
     "iopub.status.busy": "2023-06-07T16:47:19.084147Z",
     "iopub.status.idle": "2023-06-07T16:47:36.173301Z",
     "shell.execute_reply": "2023-06-07T16:47:36.172437Z",
     "shell.execute_reply.started": "2023-06-07T16:11:11.766490Z"
    },
    "papermill": {
     "duration": 17.130086,
     "end_time": "2023-06-07T16:47:36.173561",
     "exception": false,
     "start_time": "2023-06-07T16:47:19.043475",
     "status": "completed"
    },
    "tags": []
   },
   "outputs": [
    {
     "name": "stdout",
     "output_type": "stream",
     "text": [
      "Collecting bioinfokit\r\n",
      "  Downloading bioinfokit-2.1.0.tar.gz (86 kB)\r\n",
      "     |████████████████████████████████| 86 kB 2.7 MB/s             \r\n",
      "\u001b[?25h  Preparing metadata (setup.py) ... \u001b[?25l-\b \bdone\r\n",
      "\u001b[?25hRequirement already satisfied: pandas in /opt/conda/lib/python3.7/site-packages (from bioinfokit) (1.3.4)\r\n",
      "Requirement already satisfied: numpy in /opt/conda/lib/python3.7/site-packages (from bioinfokit) (1.19.5)\r\n",
      "Requirement already satisfied: matplotlib in /opt/conda/lib/python3.7/site-packages (from bioinfokit) (3.5.1)\r\n",
      "Requirement already satisfied: scipy in /opt/conda/lib/python3.7/site-packages (from bioinfokit) (1.7.3)\r\n",
      "Requirement already satisfied: scikit-learn in /opt/conda/lib/python3.7/site-packages (from bioinfokit) (0.23.2)\r\n",
      "Requirement already satisfied: seaborn in /opt/conda/lib/python3.7/site-packages (from bioinfokit) (0.11.2)\r\n",
      "Requirement already satisfied: matplotlib-venn in /opt/conda/lib/python3.7/site-packages (from bioinfokit) (0.11.6)\r\n",
      "Requirement already satisfied: tabulate in /opt/conda/lib/python3.7/site-packages (from bioinfokit) (0.8.9)\r\n",
      "Requirement already satisfied: statsmodels in /opt/conda/lib/python3.7/site-packages (from bioinfokit) (0.12.2)\r\n",
      "Requirement already satisfied: textwrap3 in /opt/conda/lib/python3.7/site-packages (from bioinfokit) (0.9.2)\r\n",
      "Collecting adjustText\r\n",
      "  Downloading adjustText-0.8-py3-none-any.whl (9.1 kB)\r\n",
      "Requirement already satisfied: pillow>=6.2.0 in /opt/conda/lib/python3.7/site-packages (from matplotlib->bioinfokit) (8.2.0)\r\n",
      "Requirement already satisfied: kiwisolver>=1.0.1 in /opt/conda/lib/python3.7/site-packages (from matplotlib->bioinfokit) (1.3.2)\r\n",
      "Requirement already satisfied: cycler>=0.10 in /opt/conda/lib/python3.7/site-packages (from matplotlib->bioinfokit) (0.11.0)\r\n",
      "Requirement already satisfied: fonttools>=4.22.0 in /opt/conda/lib/python3.7/site-packages (from matplotlib->bioinfokit) (4.28.2)\r\n",
      "Requirement already satisfied: packaging>=20.0 in /opt/conda/lib/python3.7/site-packages (from matplotlib->bioinfokit) (21.3)\r\n",
      "Requirement already satisfied: pyparsing>=2.2.1 in /opt/conda/lib/python3.7/site-packages (from matplotlib->bioinfokit) (3.0.6)\r\n",
      "Requirement already satisfied: python-dateutil>=2.7 in /opt/conda/lib/python3.7/site-packages (from matplotlib->bioinfokit) (2.8.0)\r\n",
      "Requirement already satisfied: pytz>=2017.3 in /opt/conda/lib/python3.7/site-packages (from pandas->bioinfokit) (2021.3)\r\n",
      "Requirement already satisfied: joblib>=0.11 in /opt/conda/lib/python3.7/site-packages (from scikit-learn->bioinfokit) (1.1.0)\r\n",
      "Requirement already satisfied: threadpoolctl>=2.0.0 in /opt/conda/lib/python3.7/site-packages (from scikit-learn->bioinfokit) (3.0.0)\r\n",
      "Requirement already satisfied: patsy>=0.5 in /opt/conda/lib/python3.7/site-packages (from statsmodels->bioinfokit) (0.5.2)\r\n",
      "Requirement already satisfied: six in /opt/conda/lib/python3.7/site-packages (from patsy>=0.5->statsmodels->bioinfokit) (1.16.0)\r\n",
      "Building wheels for collected packages: bioinfokit\r\n",
      "  Building wheel for bioinfokit (setup.py) ... \u001b[?25l-\b \b\\\b \bdone\r\n",
      "\u001b[?25h  Created wheel for bioinfokit: filename=bioinfokit-2.1.0-py3-none-any.whl size=58662 sha256=cd123d2998a104ebdde9996d12ffa37811754490c03efbc4b6774dc89f0bd969\r\n",
      "  Stored in directory: /root/.cache/pip/wheels/81/e6/c8/a378f0c300eba657e42ae0df674e32e6d434d96a7eb765b067\r\n",
      "Successfully built bioinfokit\r\n",
      "Installing collected packages: adjustText, bioinfokit\r\n",
      "Successfully installed adjustText-0.8 bioinfokit-2.1.0\r\n",
      "\u001b[33mWARNING: Running pip as the 'root' user can result in broken permissions and conflicting behaviour with the system package manager. It is recommended to use a virtual environment instead: https://pip.pypa.io/warnings/venv\u001b[0m\r\n"
     ]
    }
   ],
   "source": [
    "import pandas as pd\n",
    "import numpy as np\n",
    "import seaborn as sns\n",
    "import matplotlib.pyplot as plt\n",
    "!pip install bioinfokit"
   ]
  },
  {
   "cell_type": "code",
   "execution_count": 2,
   "id": "f2b8b00e",
   "metadata": {
    "execution": {
     "iopub.execute_input": "2023-06-07T16:47:36.251714Z",
     "iopub.status.busy": "2023-06-07T16:47:36.250554Z",
     "iopub.status.idle": "2023-06-07T16:47:36.280840Z",
     "shell.execute_reply": "2023-06-07T16:47:36.279158Z",
     "shell.execute_reply.started": "2023-06-07T16:16:01.673663Z"
    },
    "papermill": {
     "duration": 0.07227,
     "end_time": "2023-06-07T16:47:36.281094",
     "exception": false,
     "start_time": "2023-06-07T16:47:36.208824",
     "status": "completed"
    },
    "tags": []
   },
   "outputs": [],
   "source": [
    "data=pd.read_csv(\"/kaggle/input/case-study/mcdonalds.csv\")"
   ]
  },
  {
   "cell_type": "code",
   "execution_count": 3,
   "id": "35275e2e",
   "metadata": {
    "execution": {
     "iopub.execute_input": "2023-06-07T16:47:36.372512Z",
     "iopub.status.busy": "2023-06-07T16:47:36.371705Z",
     "iopub.status.idle": "2023-06-07T16:47:36.398096Z",
     "shell.execute_reply": "2023-06-07T16:47:36.398712Z",
     "shell.execute_reply.started": "2023-06-07T16:16:48.388740Z"
    },
    "papermill": {
     "duration": 0.075271,
     "end_time": "2023-06-07T16:47:36.398923",
     "exception": false,
     "start_time": "2023-06-07T16:47:36.323652",
     "status": "completed"
    },
    "tags": []
   },
   "outputs": [
    {
     "data": {
      "text/html": [
       "<div>\n",
       "<style scoped>\n",
       "    .dataframe tbody tr th:only-of-type {\n",
       "        vertical-align: middle;\n",
       "    }\n",
       "\n",
       "    .dataframe tbody tr th {\n",
       "        vertical-align: top;\n",
       "    }\n",
       "\n",
       "    .dataframe thead th {\n",
       "        text-align: right;\n",
       "    }\n",
       "</style>\n",
       "<table border=\"1\" class=\"dataframe\">\n",
       "  <thead>\n",
       "    <tr style=\"text-align: right;\">\n",
       "      <th></th>\n",
       "      <th>yummy</th>\n",
       "      <th>convenient</th>\n",
       "      <th>spicy</th>\n",
       "      <th>fattening</th>\n",
       "      <th>greasy</th>\n",
       "      <th>fast</th>\n",
       "      <th>cheap</th>\n",
       "      <th>tasty</th>\n",
       "      <th>expensive</th>\n",
       "      <th>healthy</th>\n",
       "      <th>disgusting</th>\n",
       "      <th>Like</th>\n",
       "      <th>Age</th>\n",
       "      <th>VisitFrequency</th>\n",
       "      <th>Gender</th>\n",
       "    </tr>\n",
       "  </thead>\n",
       "  <tbody>\n",
       "    <tr>\n",
       "      <th>0</th>\n",
       "      <td>No</td>\n",
       "      <td>Yes</td>\n",
       "      <td>No</td>\n",
       "      <td>Yes</td>\n",
       "      <td>No</td>\n",
       "      <td>Yes</td>\n",
       "      <td>Yes</td>\n",
       "      <td>No</td>\n",
       "      <td>Yes</td>\n",
       "      <td>No</td>\n",
       "      <td>No</td>\n",
       "      <td>-3</td>\n",
       "      <td>61</td>\n",
       "      <td>Every three months</td>\n",
       "      <td>Female</td>\n",
       "    </tr>\n",
       "    <tr>\n",
       "      <th>1</th>\n",
       "      <td>Yes</td>\n",
       "      <td>Yes</td>\n",
       "      <td>No</td>\n",
       "      <td>Yes</td>\n",
       "      <td>Yes</td>\n",
       "      <td>Yes</td>\n",
       "      <td>Yes</td>\n",
       "      <td>Yes</td>\n",
       "      <td>Yes</td>\n",
       "      <td>No</td>\n",
       "      <td>No</td>\n",
       "      <td>+2</td>\n",
       "      <td>51</td>\n",
       "      <td>Every three months</td>\n",
       "      <td>Female</td>\n",
       "    </tr>\n",
       "    <tr>\n",
       "      <th>2</th>\n",
       "      <td>No</td>\n",
       "      <td>Yes</td>\n",
       "      <td>Yes</td>\n",
       "      <td>Yes</td>\n",
       "      <td>Yes</td>\n",
       "      <td>Yes</td>\n",
       "      <td>No</td>\n",
       "      <td>Yes</td>\n",
       "      <td>Yes</td>\n",
       "      <td>Yes</td>\n",
       "      <td>No</td>\n",
       "      <td>+1</td>\n",
       "      <td>62</td>\n",
       "      <td>Every three months</td>\n",
       "      <td>Female</td>\n",
       "    </tr>\n",
       "    <tr>\n",
       "      <th>3</th>\n",
       "      <td>Yes</td>\n",
       "      <td>Yes</td>\n",
       "      <td>No</td>\n",
       "      <td>Yes</td>\n",
       "      <td>Yes</td>\n",
       "      <td>Yes</td>\n",
       "      <td>Yes</td>\n",
       "      <td>Yes</td>\n",
       "      <td>No</td>\n",
       "      <td>No</td>\n",
       "      <td>Yes</td>\n",
       "      <td>+4</td>\n",
       "      <td>69</td>\n",
       "      <td>Once a week</td>\n",
       "      <td>Female</td>\n",
       "    </tr>\n",
       "    <tr>\n",
       "      <th>4</th>\n",
       "      <td>No</td>\n",
       "      <td>Yes</td>\n",
       "      <td>No</td>\n",
       "      <td>Yes</td>\n",
       "      <td>Yes</td>\n",
       "      <td>Yes</td>\n",
       "      <td>Yes</td>\n",
       "      <td>No</td>\n",
       "      <td>No</td>\n",
       "      <td>Yes</td>\n",
       "      <td>No</td>\n",
       "      <td>+2</td>\n",
       "      <td>49</td>\n",
       "      <td>Once a month</td>\n",
       "      <td>Male</td>\n",
       "    </tr>\n",
       "  </tbody>\n",
       "</table>\n",
       "</div>"
      ],
      "text/plain": [
       "  yummy convenient spicy fattening greasy fast cheap tasty expensive healthy  \\\n",
       "0    No        Yes    No       Yes     No  Yes   Yes    No       Yes      No   \n",
       "1   Yes        Yes    No       Yes    Yes  Yes   Yes   Yes       Yes      No   \n",
       "2    No        Yes   Yes       Yes    Yes  Yes    No   Yes       Yes     Yes   \n",
       "3   Yes        Yes    No       Yes    Yes  Yes   Yes   Yes        No      No   \n",
       "4    No        Yes    No       Yes    Yes  Yes   Yes    No        No     Yes   \n",
       "\n",
       "  disgusting Like  Age      VisitFrequency  Gender  \n",
       "0         No   -3   61  Every three months  Female  \n",
       "1         No   +2   51  Every three months  Female  \n",
       "2         No   +1   62  Every three months  Female  \n",
       "3        Yes   +4   69         Once a week  Female  \n",
       "4         No   +2   49        Once a month    Male  "
      ]
     },
     "execution_count": 3,
     "metadata": {},
     "output_type": "execute_result"
    }
   ],
   "source": [
    "data.head()"
   ]
  },
  {
   "cell_type": "markdown",
   "id": "ea4ad098",
   "metadata": {
    "papermill": {
     "duration": 0.033833,
     "end_time": "2023-06-07T16:47:36.467060",
     "exception": false,
     "start_time": "2023-06-07T16:47:36.433227",
     "status": "completed"
    },
    "tags": []
   },
   "source": [
    "***EXPLORING DATA***"
   ]
  },
  {
   "cell_type": "code",
   "execution_count": 4,
   "id": "c3d245e5",
   "metadata": {
    "execution": {
     "iopub.execute_input": "2023-06-07T16:47:36.548197Z",
     "iopub.status.busy": "2023-06-07T16:47:36.547425Z",
     "iopub.status.idle": "2023-06-07T16:47:36.569580Z",
     "shell.execute_reply": "2023-06-07T16:47:36.570227Z",
     "shell.execute_reply.started": "2023-06-07T16:20:19.403673Z"
    },
    "papermill": {
     "duration": 0.067546,
     "end_time": "2023-06-07T16:47:36.570485",
     "exception": false,
     "start_time": "2023-06-07T16:47:36.502939",
     "status": "completed"
    },
    "tags": []
   },
   "outputs": [
    {
     "name": "stdout",
     "output_type": "stream",
     "text": [
      "<class 'pandas.core.frame.DataFrame'>\n",
      "RangeIndex: 1453 entries, 0 to 1452\n",
      "Data columns (total 15 columns):\n",
      " #   Column          Non-Null Count  Dtype \n",
      "---  ------          --------------  ----- \n",
      " 0   yummy           1453 non-null   object\n",
      " 1   convenient      1453 non-null   object\n",
      " 2   spicy           1453 non-null   object\n",
      " 3   fattening       1453 non-null   object\n",
      " 4   greasy          1453 non-null   object\n",
      " 5   fast            1453 non-null   object\n",
      " 6   cheap           1453 non-null   object\n",
      " 7   tasty           1453 non-null   object\n",
      " 8   expensive       1453 non-null   object\n",
      " 9   healthy         1453 non-null   object\n",
      " 10  disgusting      1453 non-null   object\n",
      " 11  Like            1453 non-null   object\n",
      " 12  Age             1453 non-null   int64 \n",
      " 13  VisitFrequency  1453 non-null   object\n",
      " 14  Gender          1453 non-null   object\n",
      "dtypes: int64(1), object(14)\n",
      "memory usage: 170.4+ KB\n"
     ]
    }
   ],
   "source": [
    "data.info()"
   ]
  },
  {
   "cell_type": "code",
   "execution_count": 5,
   "id": "19b79d84",
   "metadata": {
    "execution": {
     "iopub.execute_input": "2023-06-07T16:47:36.650279Z",
     "iopub.status.busy": "2023-06-07T16:47:36.649252Z",
     "iopub.status.idle": "2023-06-07T16:47:36.653178Z",
     "shell.execute_reply": "2023-06-07T16:47:36.653795Z",
     "shell.execute_reply.started": "2023-06-07T16:20:22.492449Z"
    },
    "papermill": {
     "duration": 0.049047,
     "end_time": "2023-06-07T16:47:36.654034",
     "exception": false,
     "start_time": "2023-06-07T16:47:36.604987",
     "status": "completed"
    },
    "tags": []
   },
   "outputs": [
    {
     "name": "stdout",
     "output_type": "stream",
     "text": [
      "yummy             0\n",
      "convenient        0\n",
      "spicy             0\n",
      "fattening         0\n",
      "greasy            0\n",
      "fast              0\n",
      "cheap             0\n",
      "tasty             0\n",
      "expensive         0\n",
      "healthy           0\n",
      "disgusting        0\n",
      "Like              0\n",
      "Age               0\n",
      "VisitFrequency    0\n",
      "Gender            0\n",
      "dtype: int64\n"
     ]
    }
   ],
   "source": [
    "print(pd.isnull(data).sum())"
   ]
  },
  {
   "cell_type": "code",
   "execution_count": 6,
   "id": "a1c19f64",
   "metadata": {
    "execution": {
     "iopub.execute_input": "2023-06-07T16:47:36.740029Z",
     "iopub.status.busy": "2023-06-07T16:47:36.739267Z",
     "iopub.status.idle": "2023-06-07T16:47:36.743833Z",
     "shell.execute_reply": "2023-06-07T16:47:36.742980Z",
     "shell.execute_reply.started": "2023-06-07T16:20:25.243742Z"
    },
    "papermill": {
     "duration": 0.05516,
     "end_time": "2023-06-07T16:47:36.744000",
     "exception": false,
     "start_time": "2023-06-07T16:47:36.688840",
     "status": "completed"
    },
    "tags": []
   },
   "outputs": [
    {
     "data": {
      "text/plain": [
       "<bound method NDFrame.describe of      yummy convenient spicy fattening greasy fast cheap tasty expensive  \\\n",
       "0       No        Yes    No       Yes     No  Yes   Yes    No       Yes   \n",
       "1      Yes        Yes    No       Yes    Yes  Yes   Yes   Yes       Yes   \n",
       "2       No        Yes   Yes       Yes    Yes  Yes    No   Yes       Yes   \n",
       "3      Yes        Yes    No       Yes    Yes  Yes   Yes   Yes        No   \n",
       "4       No        Yes    No       Yes    Yes  Yes   Yes    No        No   \n",
       "...    ...        ...   ...       ...    ...  ...   ...   ...       ...   \n",
       "1448    No        Yes    No       Yes    Yes   No    No    No       Yes   \n",
       "1449   Yes        Yes    No       Yes     No   No   Yes   Yes        No   \n",
       "1450   Yes        Yes    No       Yes     No  Yes    No   Yes       Yes   \n",
       "1451   Yes        Yes    No        No     No  Yes   Yes   Yes        No   \n",
       "1452    No        Yes    No       Yes    Yes   No    No    No       Yes   \n",
       "\n",
       "     healthy disgusting          Like  Age      VisitFrequency  Gender  \n",
       "0         No         No            -3   61  Every three months  Female  \n",
       "1         No         No            +2   51  Every three months  Female  \n",
       "2        Yes         No            +1   62  Every three months  Female  \n",
       "3         No        Yes            +4   69         Once a week  Female  \n",
       "4        Yes         No            +2   49        Once a month    Male  \n",
       "...      ...        ...           ...  ...                 ...     ...  \n",
       "1448      No        Yes  I hate it!-5   47         Once a year    Male  \n",
       "1449     Yes         No            +2   36         Once a week  Female  \n",
       "1450      No         No            +3   52        Once a month  Female  \n",
       "1451     Yes         No            +4   41  Every three months    Male  \n",
       "1452      No        Yes            -3   30  Every three months    Male  \n",
       "\n",
       "[1453 rows x 15 columns]>"
      ]
     },
     "execution_count": 6,
     "metadata": {},
     "output_type": "execute_result"
    }
   ],
   "source": [
    "data.describe"
   ]
  },
  {
   "cell_type": "code",
   "execution_count": 7,
   "id": "194aff52",
   "metadata": {
    "execution": {
     "iopub.execute_input": "2023-06-07T16:47:36.826335Z",
     "iopub.status.busy": "2023-06-07T16:47:36.825184Z",
     "iopub.status.idle": "2023-06-07T16:47:36.839307Z",
     "shell.execute_reply": "2023-06-07T16:47:36.838695Z",
     "shell.execute_reply.started": "2023-06-07T16:20:29.142514Z"
    },
    "papermill": {
     "duration": 0.058178,
     "end_time": "2023-06-07T16:47:36.839498",
     "exception": false,
     "start_time": "2023-06-07T16:47:36.781320",
     "status": "completed"
    },
    "tags": []
   },
   "outputs": [
    {
     "data": {
      "text/html": [
       "<div>\n",
       "<style scoped>\n",
       "    .dataframe tbody tr th:only-of-type {\n",
       "        vertical-align: middle;\n",
       "    }\n",
       "\n",
       "    .dataframe tbody tr th {\n",
       "        vertical-align: top;\n",
       "    }\n",
       "\n",
       "    .dataframe thead th {\n",
       "        text-align: right;\n",
       "    }\n",
       "</style>\n",
       "<table border=\"1\" class=\"dataframe\">\n",
       "  <thead>\n",
       "    <tr style=\"text-align: right;\">\n",
       "      <th></th>\n",
       "      <th>Age</th>\n",
       "    </tr>\n",
       "  </thead>\n",
       "  <tbody>\n",
       "    <tr>\n",
       "      <th>count</th>\n",
       "      <td>1453.000000</td>\n",
       "    </tr>\n",
       "    <tr>\n",
       "      <th>mean</th>\n",
       "      <td>44.604955</td>\n",
       "    </tr>\n",
       "    <tr>\n",
       "      <th>std</th>\n",
       "      <td>14.221178</td>\n",
       "    </tr>\n",
       "    <tr>\n",
       "      <th>min</th>\n",
       "      <td>18.000000</td>\n",
       "    </tr>\n",
       "    <tr>\n",
       "      <th>25%</th>\n",
       "      <td>33.000000</td>\n",
       "    </tr>\n",
       "    <tr>\n",
       "      <th>50%</th>\n",
       "      <td>45.000000</td>\n",
       "    </tr>\n",
       "    <tr>\n",
       "      <th>75%</th>\n",
       "      <td>57.000000</td>\n",
       "    </tr>\n",
       "    <tr>\n",
       "      <th>max</th>\n",
       "      <td>71.000000</td>\n",
       "    </tr>\n",
       "  </tbody>\n",
       "</table>\n",
       "</div>"
      ],
      "text/plain": [
       "               Age\n",
       "count  1453.000000\n",
       "mean     44.604955\n",
       "std      14.221178\n",
       "min      18.000000\n",
       "25%      33.000000\n",
       "50%      45.000000\n",
       "75%      57.000000\n",
       "max      71.000000"
      ]
     },
     "execution_count": 7,
     "metadata": {},
     "output_type": "execute_result"
    }
   ],
   "source": [
    "data.describe()"
   ]
  },
  {
   "cell_type": "code",
   "execution_count": 8,
   "id": "4ad91d5c",
   "metadata": {
    "execution": {
     "iopub.execute_input": "2023-06-07T16:47:36.917675Z",
     "iopub.status.busy": "2023-06-07T16:47:36.916871Z",
     "iopub.status.idle": "2023-06-07T16:47:37.086853Z",
     "shell.execute_reply": "2023-06-07T16:47:37.086105Z",
     "shell.execute_reply.started": "2023-06-07T16:20:31.802392Z"
    },
    "papermill": {
     "duration": 0.211555,
     "end_time": "2023-06-07T16:47:37.087027",
     "exception": false,
     "start_time": "2023-06-07T16:47:36.875472",
     "status": "completed"
    },
    "tags": []
   },
   "outputs": [
    {
     "data": {
      "text/html": [
       "<div>\n",
       "<style scoped>\n",
       "    .dataframe tbody tr th:only-of-type {\n",
       "        vertical-align: middle;\n",
       "    }\n",
       "\n",
       "    .dataframe tbody tr th {\n",
       "        vertical-align: top;\n",
       "    }\n",
       "\n",
       "    .dataframe thead th {\n",
       "        text-align: right;\n",
       "    }\n",
       "</style>\n",
       "<table border=\"1\" class=\"dataframe\">\n",
       "  <thead>\n",
       "    <tr style=\"text-align: right;\">\n",
       "      <th></th>\n",
       "      <th>yummy</th>\n",
       "      <th>convenient</th>\n",
       "      <th>spicy</th>\n",
       "      <th>fattening</th>\n",
       "      <th>greasy</th>\n",
       "      <th>fast</th>\n",
       "      <th>cheap</th>\n",
       "      <th>tasty</th>\n",
       "      <th>expensive</th>\n",
       "      <th>healthy</th>\n",
       "      <th>disgusting</th>\n",
       "    </tr>\n",
       "  </thead>\n",
       "  <tbody>\n",
       "    <tr>\n",
       "      <th>0</th>\n",
       "      <td>No</td>\n",
       "      <td>Yes</td>\n",
       "      <td>No</td>\n",
       "      <td>Yes</td>\n",
       "      <td>No</td>\n",
       "      <td>Yes</td>\n",
       "      <td>Yes</td>\n",
       "      <td>No</td>\n",
       "      <td>Yes</td>\n",
       "      <td>No</td>\n",
       "      <td>No</td>\n",
       "    </tr>\n",
       "    <tr>\n",
       "      <th>1</th>\n",
       "      <td>Yes</td>\n",
       "      <td>Yes</td>\n",
       "      <td>No</td>\n",
       "      <td>Yes</td>\n",
       "      <td>Yes</td>\n",
       "      <td>Yes</td>\n",
       "      <td>Yes</td>\n",
       "      <td>Yes</td>\n",
       "      <td>Yes</td>\n",
       "      <td>No</td>\n",
       "      <td>No</td>\n",
       "    </tr>\n",
       "    <tr>\n",
       "      <th>2</th>\n",
       "      <td>No</td>\n",
       "      <td>Yes</td>\n",
       "      <td>Yes</td>\n",
       "      <td>Yes</td>\n",
       "      <td>Yes</td>\n",
       "      <td>Yes</td>\n",
       "      <td>No</td>\n",
       "      <td>Yes</td>\n",
       "      <td>Yes</td>\n",
       "      <td>Yes</td>\n",
       "      <td>No</td>\n",
       "    </tr>\n",
       "    <tr>\n",
       "      <th>3</th>\n",
       "      <td>Yes</td>\n",
       "      <td>Yes</td>\n",
       "      <td>No</td>\n",
       "      <td>Yes</td>\n",
       "      <td>Yes</td>\n",
       "      <td>Yes</td>\n",
       "      <td>Yes</td>\n",
       "      <td>Yes</td>\n",
       "      <td>No</td>\n",
       "      <td>No</td>\n",
       "      <td>Yes</td>\n",
       "    </tr>\n",
       "    <tr>\n",
       "      <th>4</th>\n",
       "      <td>No</td>\n",
       "      <td>Yes</td>\n",
       "      <td>No</td>\n",
       "      <td>Yes</td>\n",
       "      <td>Yes</td>\n",
       "      <td>Yes</td>\n",
       "      <td>Yes</td>\n",
       "      <td>No</td>\n",
       "      <td>No</td>\n",
       "      <td>Yes</td>\n",
       "      <td>No</td>\n",
       "    </tr>\n",
       "    <tr>\n",
       "      <th>...</th>\n",
       "      <td>...</td>\n",
       "      <td>...</td>\n",
       "      <td>...</td>\n",
       "      <td>...</td>\n",
       "      <td>...</td>\n",
       "      <td>...</td>\n",
       "      <td>...</td>\n",
       "      <td>...</td>\n",
       "      <td>...</td>\n",
       "      <td>...</td>\n",
       "      <td>...</td>\n",
       "    </tr>\n",
       "    <tr>\n",
       "      <th>1448</th>\n",
       "      <td>No</td>\n",
       "      <td>Yes</td>\n",
       "      <td>No</td>\n",
       "      <td>Yes</td>\n",
       "      <td>Yes</td>\n",
       "      <td>No</td>\n",
       "      <td>No</td>\n",
       "      <td>No</td>\n",
       "      <td>Yes</td>\n",
       "      <td>No</td>\n",
       "      <td>Yes</td>\n",
       "    </tr>\n",
       "    <tr>\n",
       "      <th>1449</th>\n",
       "      <td>Yes</td>\n",
       "      <td>Yes</td>\n",
       "      <td>No</td>\n",
       "      <td>Yes</td>\n",
       "      <td>No</td>\n",
       "      <td>No</td>\n",
       "      <td>Yes</td>\n",
       "      <td>Yes</td>\n",
       "      <td>No</td>\n",
       "      <td>Yes</td>\n",
       "      <td>No</td>\n",
       "    </tr>\n",
       "    <tr>\n",
       "      <th>1450</th>\n",
       "      <td>Yes</td>\n",
       "      <td>Yes</td>\n",
       "      <td>No</td>\n",
       "      <td>Yes</td>\n",
       "      <td>No</td>\n",
       "      <td>Yes</td>\n",
       "      <td>No</td>\n",
       "      <td>Yes</td>\n",
       "      <td>Yes</td>\n",
       "      <td>No</td>\n",
       "      <td>No</td>\n",
       "    </tr>\n",
       "    <tr>\n",
       "      <th>1451</th>\n",
       "      <td>Yes</td>\n",
       "      <td>Yes</td>\n",
       "      <td>No</td>\n",
       "      <td>No</td>\n",
       "      <td>No</td>\n",
       "      <td>Yes</td>\n",
       "      <td>Yes</td>\n",
       "      <td>Yes</td>\n",
       "      <td>No</td>\n",
       "      <td>Yes</td>\n",
       "      <td>No</td>\n",
       "    </tr>\n",
       "    <tr>\n",
       "      <th>1452</th>\n",
       "      <td>No</td>\n",
       "      <td>Yes</td>\n",
       "      <td>No</td>\n",
       "      <td>Yes</td>\n",
       "      <td>Yes</td>\n",
       "      <td>No</td>\n",
       "      <td>No</td>\n",
       "      <td>No</td>\n",
       "      <td>Yes</td>\n",
       "      <td>No</td>\n",
       "      <td>Yes</td>\n",
       "    </tr>\n",
       "  </tbody>\n",
       "</table>\n",
       "<p>1453 rows × 11 columns</p>\n",
       "</div>"
      ],
      "text/plain": [
       "     yummy convenient spicy fattening greasy fast cheap tasty expensive  \\\n",
       "0       No        Yes    No       Yes     No  Yes   Yes    No       Yes   \n",
       "1      Yes        Yes    No       Yes    Yes  Yes   Yes   Yes       Yes   \n",
       "2       No        Yes   Yes       Yes    Yes  Yes    No   Yes       Yes   \n",
       "3      Yes        Yes    No       Yes    Yes  Yes   Yes   Yes        No   \n",
       "4       No        Yes    No       Yes    Yes  Yes   Yes    No        No   \n",
       "...    ...        ...   ...       ...    ...  ...   ...   ...       ...   \n",
       "1448    No        Yes    No       Yes    Yes   No    No    No       Yes   \n",
       "1449   Yes        Yes    No       Yes     No   No   Yes   Yes        No   \n",
       "1450   Yes        Yes    No       Yes     No  Yes    No   Yes       Yes   \n",
       "1451   Yes        Yes    No        No     No  Yes   Yes   Yes        No   \n",
       "1452    No        Yes    No       Yes    Yes   No    No    No       Yes   \n",
       "\n",
       "     healthy disgusting  \n",
       "0         No         No  \n",
       "1         No         No  \n",
       "2        Yes         No  \n",
       "3         No        Yes  \n",
       "4        Yes         No  \n",
       "...      ...        ...  \n",
       "1448      No        Yes  \n",
       "1449     Yes         No  \n",
       "1450      No         No  \n",
       "1451     Yes         No  \n",
       "1452      No        Yes  \n",
       "\n",
       "[1453 rows x 11 columns]"
      ]
     },
     "execution_count": 8,
     "metadata": {},
     "output_type": "execute_result"
    }
   ],
   "source": [
    "from sklearn.preprocessing import LabelEncoder\n",
    "data_new = data.drop(labels=['Like','Age','VisitFrequency','Gender'], axis=1) \n",
    "data_new"
   ]
  },
  {
   "cell_type": "code",
   "execution_count": 9,
   "id": "4ecb3025",
   "metadata": {
    "execution": {
     "iopub.execute_input": "2023-06-07T16:47:37.164543Z",
     "iopub.status.busy": "2023-06-07T16:47:37.163733Z",
     "iopub.status.idle": "2023-06-07T16:47:37.184359Z",
     "shell.execute_reply": "2023-06-07T16:47:37.185064Z",
     "shell.execute_reply.started": "2023-06-07T16:20:34.877371Z"
    },
    "papermill": {
     "duration": 0.061072,
     "end_time": "2023-06-07T16:47:37.185253",
     "exception": false,
     "start_time": "2023-06-07T16:47:37.124181",
     "status": "completed"
    },
    "tags": []
   },
   "outputs": [
    {
     "data": {
      "text/html": [
       "<div>\n",
       "<style scoped>\n",
       "    .dataframe tbody tr th:only-of-type {\n",
       "        vertical-align: middle;\n",
       "    }\n",
       "\n",
       "    .dataframe tbody tr th {\n",
       "        vertical-align: top;\n",
       "    }\n",
       "\n",
       "    .dataframe thead th {\n",
       "        text-align: right;\n",
       "    }\n",
       "</style>\n",
       "<table border=\"1\" class=\"dataframe\">\n",
       "  <thead>\n",
       "    <tr style=\"text-align: right;\">\n",
       "      <th></th>\n",
       "      <th>yummy</th>\n",
       "      <th>convenient</th>\n",
       "      <th>spicy</th>\n",
       "      <th>fattening</th>\n",
       "      <th>greasy</th>\n",
       "      <th>fast</th>\n",
       "      <th>cheap</th>\n",
       "      <th>tasty</th>\n",
       "      <th>expensive</th>\n",
       "      <th>healthy</th>\n",
       "      <th>disgusting</th>\n",
       "    </tr>\n",
       "  </thead>\n",
       "  <tbody>\n",
       "    <tr>\n",
       "      <th>0</th>\n",
       "      <td>0</td>\n",
       "      <td>1</td>\n",
       "      <td>0</td>\n",
       "      <td>1</td>\n",
       "      <td>0</td>\n",
       "      <td>1</td>\n",
       "      <td>1</td>\n",
       "      <td>0</td>\n",
       "      <td>1</td>\n",
       "      <td>0</td>\n",
       "      <td>0</td>\n",
       "    </tr>\n",
       "    <tr>\n",
       "      <th>1</th>\n",
       "      <td>1</td>\n",
       "      <td>1</td>\n",
       "      <td>0</td>\n",
       "      <td>1</td>\n",
       "      <td>1</td>\n",
       "      <td>1</td>\n",
       "      <td>1</td>\n",
       "      <td>1</td>\n",
       "      <td>1</td>\n",
       "      <td>0</td>\n",
       "      <td>0</td>\n",
       "    </tr>\n",
       "    <tr>\n",
       "      <th>2</th>\n",
       "      <td>0</td>\n",
       "      <td>1</td>\n",
       "      <td>1</td>\n",
       "      <td>1</td>\n",
       "      <td>1</td>\n",
       "      <td>1</td>\n",
       "      <td>0</td>\n",
       "      <td>1</td>\n",
       "      <td>1</td>\n",
       "      <td>1</td>\n",
       "      <td>0</td>\n",
       "    </tr>\n",
       "    <tr>\n",
       "      <th>3</th>\n",
       "      <td>1</td>\n",
       "      <td>1</td>\n",
       "      <td>0</td>\n",
       "      <td>1</td>\n",
       "      <td>1</td>\n",
       "      <td>1</td>\n",
       "      <td>1</td>\n",
       "      <td>1</td>\n",
       "      <td>0</td>\n",
       "      <td>0</td>\n",
       "      <td>1</td>\n",
       "    </tr>\n",
       "    <tr>\n",
       "      <th>4</th>\n",
       "      <td>0</td>\n",
       "      <td>1</td>\n",
       "      <td>0</td>\n",
       "      <td>1</td>\n",
       "      <td>1</td>\n",
       "      <td>1</td>\n",
       "      <td>1</td>\n",
       "      <td>0</td>\n",
       "      <td>0</td>\n",
       "      <td>1</td>\n",
       "      <td>0</td>\n",
       "    </tr>\n",
       "  </tbody>\n",
       "</table>\n",
       "</div>"
      ],
      "text/plain": [
       "   yummy  convenient  spicy  fattening  greasy  fast  cheap  tasty  expensive  \\\n",
       "0      0           1      0          1       0     1      1      0          1   \n",
       "1      1           1      0          1       1     1      1      1          1   \n",
       "2      0           1      1          1       1     1      0      1          1   \n",
       "3      1           1      0          1       1     1      1      1          0   \n",
       "4      0           1      0          1       1     1      1      0          0   \n",
       "\n",
       "   healthy  disgusting  \n",
       "0        0           0  \n",
       "1        0           0  \n",
       "2        1           0  \n",
       "3        0           1  \n",
       "4        1           0  "
      ]
     },
     "execution_count": 9,
     "metadata": {},
     "output_type": "execute_result"
    }
   ],
   "source": [
    "data_encoded = data_new.apply(LabelEncoder().fit_transform)\n",
    "data_encoded.head()"
   ]
  },
  {
   "cell_type": "code",
   "execution_count": 10,
   "id": "622c9106",
   "metadata": {
    "execution": {
     "iopub.execute_input": "2023-06-07T16:47:37.264678Z",
     "iopub.status.busy": "2023-06-07T16:47:37.263915Z",
     "iopub.status.idle": "2023-06-07T16:47:37.502429Z",
     "shell.execute_reply": "2023-06-07T16:47:37.503757Z",
     "shell.execute_reply.started": "2023-06-07T16:20:37.747395Z"
    },
    "papermill": {
     "duration": 0.281251,
     "end_time": "2023-06-07T16:47:37.504166",
     "exception": false,
     "start_time": "2023-06-07T16:47:37.222915",
     "status": "completed"
    },
    "tags": []
   },
   "outputs": [
    {
     "data": {
      "text/html": [
       "<div>\n",
       "<style scoped>\n",
       "    .dataframe tbody tr th:only-of-type {\n",
       "        vertical-align: middle;\n",
       "    }\n",
       "\n",
       "    .dataframe tbody tr th {\n",
       "        vertical-align: top;\n",
       "    }\n",
       "\n",
       "    .dataframe thead th {\n",
       "        text-align: right;\n",
       "    }\n",
       "</style>\n",
       "<table border=\"1\" class=\"dataframe\">\n",
       "  <thead>\n",
       "    <tr style=\"text-align: right;\">\n",
       "      <th></th>\n",
       "      <th>pc1</th>\n",
       "      <th>pc2</th>\n",
       "      <th>pc3</th>\n",
       "      <th>pc4</th>\n",
       "      <th>pc5</th>\n",
       "      <th>pc6</th>\n",
       "      <th>pc7</th>\n",
       "      <th>pc8</th>\n",
       "      <th>pc9</th>\n",
       "      <th>pc10</th>\n",
       "      <th>pc11</th>\n",
       "    </tr>\n",
       "  </thead>\n",
       "  <tbody>\n",
       "    <tr>\n",
       "      <th>0</th>\n",
       "      <td>0.704334</td>\n",
       "      <td>-0.437016</td>\n",
       "      <td>0.268698</td>\n",
       "      <td>-0.872074</td>\n",
       "      <td>-1.521184</td>\n",
       "      <td>0.470160</td>\n",
       "      <td>-0.030969</td>\n",
       "      <td>-0.687116</td>\n",
       "      <td>0.367598</td>\n",
       "      <td>0.321161</td>\n",
       "      <td>1.701170</td>\n",
       "    </tr>\n",
       "    <tr>\n",
       "      <th>1</th>\n",
       "      <td>-0.467820</td>\n",
       "      <td>0.364277</td>\n",
       "      <td>-1.596835</td>\n",
       "      <td>-0.004835</td>\n",
       "      <td>0.462385</td>\n",
       "      <td>-0.449321</td>\n",
       "      <td>0.087351</td>\n",
       "      <td>0.446003</td>\n",
       "      <td>0.221855</td>\n",
       "      <td>0.191268</td>\n",
       "      <td>1.467681</td>\n",
       "    </tr>\n",
       "    <tr>\n",
       "      <th>2</th>\n",
       "      <td>0.191986</td>\n",
       "      <td>1.712949</td>\n",
       "      <td>-0.339413</td>\n",
       "      <td>3.368168</td>\n",
       "      <td>-1.266802</td>\n",
       "      <td>0.148058</td>\n",
       "      <td>-0.606634</td>\n",
       "      <td>-0.668576</td>\n",
       "      <td>1.377226</td>\n",
       "      <td>-1.259300</td>\n",
       "      <td>-0.128530</td>\n",
       "    </tr>\n",
       "    <tr>\n",
       "      <th>3</th>\n",
       "      <td>-0.116991</td>\n",
       "      <td>-1.155122</td>\n",
       "      <td>-1.003913</td>\n",
       "      <td>0.469589</td>\n",
       "      <td>1.141750</td>\n",
       "      <td>-0.857182</td>\n",
       "      <td>0.015843</td>\n",
       "      <td>0.390275</td>\n",
       "      <td>-1.578539</td>\n",
       "      <td>0.092189</td>\n",
       "      <td>-0.233201</td>\n",
       "    </tr>\n",
       "    <tr>\n",
       "      <th>4</th>\n",
       "      <td>-0.034724</td>\n",
       "      <td>-1.390267</td>\n",
       "      <td>0.792275</td>\n",
       "      <td>0.473031</td>\n",
       "      <td>-0.270488</td>\n",
       "      <td>-0.847963</td>\n",
       "      <td>-1.804085</td>\n",
       "      <td>-0.700019</td>\n",
       "      <td>1.630339</td>\n",
       "      <td>0.092449</td>\n",
       "      <td>-0.033144</td>\n",
       "    </tr>\n",
       "  </tbody>\n",
       "</table>\n",
       "</div>"
      ],
      "text/plain": [
       "        pc1       pc2       pc3       pc4       pc5       pc6       pc7  \\\n",
       "0  0.704334 -0.437016  0.268698 -0.872074 -1.521184  0.470160 -0.030969   \n",
       "1 -0.467820  0.364277 -1.596835 -0.004835  0.462385 -0.449321  0.087351   \n",
       "2  0.191986  1.712949 -0.339413  3.368168 -1.266802  0.148058 -0.606634   \n",
       "3 -0.116991 -1.155122 -1.003913  0.469589  1.141750 -0.857182  0.015843   \n",
       "4 -0.034724 -1.390267  0.792275  0.473031 -0.270488 -0.847963 -1.804085   \n",
       "\n",
       "        pc8       pc9      pc10      pc11  \n",
       "0 -0.687116  0.367598  0.321161  1.701170  \n",
       "1  0.446003  0.221855  0.191268  1.467681  \n",
       "2 -0.668576  1.377226 -1.259300 -0.128530  \n",
       "3  0.390275 -1.578539  0.092189 -0.233201  \n",
       "4 -0.700019  1.630339  0.092449 -0.033144  "
      ]
     },
     "execution_count": 10,
     "metadata": {},
     "output_type": "execute_result"
    }
   ],
   "source": [
    "from sklearn.decomposition import PCA\n",
    "from sklearn import preprocessing\n",
    "\n",
    "pca_data = preprocessing.scale(data_encoded)\n",
    "pca = PCA(n_components=11)\n",
    "pc = pca.fit_transform(pca_data)\n",
    "names = ['pc1','pc2','pc3','pc4','pc5','pc6','pc7','pc8','pc9','pc10','pc11']\n",
    "pf = pd.DataFrame(data = pc, columns = names)\n",
    "pf.head()\n"
   ]
  },
  {
   "cell_type": "code",
   "execution_count": 11,
   "id": "fb965698",
   "metadata": {
    "execution": {
     "iopub.execute_input": "2023-06-07T16:47:37.631000Z",
     "iopub.status.busy": "2023-06-07T16:47:37.630205Z",
     "iopub.status.idle": "2023-06-07T16:47:37.633975Z",
     "shell.execute_reply": "2023-06-07T16:47:37.634658Z",
     "shell.execute_reply.started": "2023-06-07T16:20:40.507392Z"
    },
    "papermill": {
     "duration": 0.049632,
     "end_time": "2023-06-07T16:47:37.634880",
     "exception": false,
     "start_time": "2023-06-07T16:47:37.585248",
     "status": "completed"
    },
    "tags": []
   },
   "outputs": [
    {
     "data": {
      "text/plain": [
       "array([0.25556637, 0.14834762, 0.12546909, 0.09826971, 0.08348356,\n",
       "       0.07109102, 0.06498559, 0.05384477, 0.04762809, 0.02796379,\n",
       "       0.0233504 ])"
      ]
     },
     "execution_count": 11,
     "metadata": {},
     "output_type": "execute_result"
    }
   ],
   "source": [
    "pca.explained_variance_ratio_"
   ]
  },
  {
   "cell_type": "code",
   "execution_count": 12,
   "id": "228be6cc",
   "metadata": {
    "execution": {
     "iopub.execute_input": "2023-06-07T16:47:37.731466Z",
     "iopub.status.busy": "2023-06-07T16:47:37.730620Z",
     "iopub.status.idle": "2023-06-07T16:47:37.745862Z",
     "shell.execute_reply": "2023-06-07T16:47:37.746459Z",
     "shell.execute_reply.started": "2023-06-07T16:20:43.493349Z"
    },
    "papermill": {
     "duration": 0.073069,
     "end_time": "2023-06-07T16:47:37.746702",
     "exception": false,
     "start_time": "2023-06-07T16:47:37.673633",
     "status": "completed"
    },
    "tags": []
   },
   "outputs": [
    {
     "data": {
      "text/html": [
       "<div>\n",
       "<style scoped>\n",
       "    .dataframe tbody tr th:only-of-type {\n",
       "        vertical-align: middle;\n",
       "    }\n",
       "\n",
       "    .dataframe tbody tr th {\n",
       "        vertical-align: top;\n",
       "    }\n",
       "\n",
       "    .dataframe thead th {\n",
       "        text-align: right;\n",
       "    }\n",
       "</style>\n",
       "<table border=\"1\" class=\"dataframe\">\n",
       "  <thead>\n",
       "    <tr style=\"text-align: right;\">\n",
       "      <th></th>\n",
       "      <th>PC1</th>\n",
       "      <th>PC2</th>\n",
       "      <th>PC3</th>\n",
       "      <th>PC4</th>\n",
       "      <th>PC5</th>\n",
       "      <th>PC6</th>\n",
       "      <th>PC7</th>\n",
       "      <th>PC8</th>\n",
       "      <th>PC9</th>\n",
       "      <th>PC10</th>\n",
       "      <th>PC11</th>\n",
       "    </tr>\n",
       "    <tr>\n",
       "      <th>feature</th>\n",
       "      <th></th>\n",
       "      <th></th>\n",
       "      <th></th>\n",
       "      <th></th>\n",
       "      <th></th>\n",
       "      <th></th>\n",
       "      <th></th>\n",
       "      <th></th>\n",
       "      <th></th>\n",
       "      <th></th>\n",
       "      <th></th>\n",
       "    </tr>\n",
       "  </thead>\n",
       "  <tbody>\n",
       "    <tr>\n",
       "      <th>yummy</th>\n",
       "      <td>-0.406955</td>\n",
       "      <td>0.282615</td>\n",
       "      <td>-0.259588</td>\n",
       "      <td>0.026237</td>\n",
       "      <td>0.346857</td>\n",
       "      <td>-0.124916</td>\n",
       "      <td>0.159878</td>\n",
       "      <td>0.016587</td>\n",
       "      <td>-0.195341</td>\n",
       "      <td>0.691446</td>\n",
       "      <td>-0.091851</td>\n",
       "    </tr>\n",
       "    <tr>\n",
       "      <th>convenient</th>\n",
       "      <td>-0.308827</td>\n",
       "      <td>-0.045682</td>\n",
       "      <td>-0.317151</td>\n",
       "      <td>-0.009424</td>\n",
       "      <td>-0.437148</td>\n",
       "      <td>0.188966</td>\n",
       "      <td>-0.661814</td>\n",
       "      <td>0.150033</td>\n",
       "      <td>-0.336539</td>\n",
       "      <td>0.028831</td>\n",
       "      <td>0.021460</td>\n",
       "    </tr>\n",
       "    <tr>\n",
       "      <th>spicy</th>\n",
       "      <td>-0.023320</td>\n",
       "      <td>0.069982</td>\n",
       "      <td>0.020170</td>\n",
       "      <td>0.845496</td>\n",
       "      <td>-0.185551</td>\n",
       "      <td>0.438661</td>\n",
       "      <td>0.214188</td>\n",
       "      <td>-0.027835</td>\n",
       "      <td>0.025239</td>\n",
       "      <td>0.058187</td>\n",
       "      <td>-0.041960</td>\n",
       "    </tr>\n",
       "    <tr>\n",
       "      <th>fattening</th>\n",
       "      <td>0.177861</td>\n",
       "      <td>-0.205590</td>\n",
       "      <td>-0.608077</td>\n",
       "      <td>-0.023396</td>\n",
       "      <td>0.086934</td>\n",
       "      <td>0.107520</td>\n",
       "      <td>-0.023851</td>\n",
       "      <td>-0.720478</td>\n",
       "      <td>0.105052</td>\n",
       "      <td>-0.020311</td>\n",
       "      <td>-0.074626</td>\n",
       "    </tr>\n",
       "    <tr>\n",
       "      <th>greasy</th>\n",
       "      <td>0.267796</td>\n",
       "      <td>-0.136300</td>\n",
       "      <td>-0.389568</td>\n",
       "      <td>0.330854</td>\n",
       "      <td>0.343713</td>\n",
       "      <td>-0.278329</td>\n",
       "      <td>-0.307300</td>\n",
       "      <td>0.487275</td>\n",
       "      <td>0.346137</td>\n",
       "      <td>-0.015160</td>\n",
       "      <td>-0.031047</td>\n",
       "    </tr>\n",
       "    <tr>\n",
       "      <th>fast</th>\n",
       "      <td>-0.213039</td>\n",
       "      <td>-0.282441</td>\n",
       "      <td>-0.211395</td>\n",
       "      <td>0.090363</td>\n",
       "      <td>-0.568939</td>\n",
       "      <td>-0.572734</td>\n",
       "      <td>0.392436</td>\n",
       "      <td>0.055976</td>\n",
       "      <td>0.099235</td>\n",
       "      <td>0.017917</td>\n",
       "      <td>-0.054448</td>\n",
       "    </tr>\n",
       "    <tr>\n",
       "      <th>cheap</th>\n",
       "      <td>-0.289134</td>\n",
       "      <td>-0.575032</td>\n",
       "      <td>0.125157</td>\n",
       "      <td>0.114477</td>\n",
       "      <td>0.256981</td>\n",
       "      <td>0.020657</td>\n",
       "      <td>-0.008895</td>\n",
       "      <td>-0.064667</td>\n",
       "      <td>-0.062027</td>\n",
       "      <td>0.060323</td>\n",
       "      <td>0.691923</td>\n",
       "    </tr>\n",
       "    <tr>\n",
       "      <th>tasty</th>\n",
       "      <td>-0.426115</td>\n",
       "      <td>0.242199</td>\n",
       "      <td>-0.269648</td>\n",
       "      <td>0.072691</td>\n",
       "      <td>0.286099</td>\n",
       "      <td>-0.053053</td>\n",
       "      <td>0.197364</td>\n",
       "      <td>0.059289</td>\n",
       "      <td>-0.213587</td>\n",
       "      <td>-0.713426</td>\n",
       "      <td>0.006426</td>\n",
       "    </tr>\n",
       "    <tr>\n",
       "      <th>expensive</th>\n",
       "      <td>0.290944</td>\n",
       "      <td>0.567528</td>\n",
       "      <td>-0.183298</td>\n",
       "      <td>0.035510</td>\n",
       "      <td>-0.207362</td>\n",
       "      <td>-0.171160</td>\n",
       "      <td>0.015198</td>\n",
       "      <td>-0.061727</td>\n",
       "      <td>-0.009675</td>\n",
       "      <td>0.029581</td>\n",
       "      <td>0.693614</td>\n",
       "    </tr>\n",
       "    <tr>\n",
       "      <th>healthy</th>\n",
       "      <td>-0.266839</td>\n",
       "      <td>0.201031</td>\n",
       "      <td>0.367814</td>\n",
       "      <td>0.301990</td>\n",
       "      <td>0.051787</td>\n",
       "      <td>-0.446166</td>\n",
       "      <td>-0.449446</td>\n",
       "      <td>-0.446110</td>\n",
       "      <td>0.219269</td>\n",
       "      <td>-0.054544</td>\n",
       "      <td>-0.089903</td>\n",
       "    </tr>\n",
       "    <tr>\n",
       "      <th>disgusting</th>\n",
       "      <td>0.410744</td>\n",
       "      <td>-0.143888</td>\n",
       "      <td>0.090299</td>\n",
       "      <td>0.235231</td>\n",
       "      <td>0.105843</td>\n",
       "      <td>-0.328041</td>\n",
       "      <td>-0.017070</td>\n",
       "      <td>-0.079122</td>\n",
       "      <td>-0.780777</td>\n",
       "      <td>-0.016028</td>\n",
       "      <td>-0.108920</td>\n",
       "    </tr>\n",
       "  </tbody>\n",
       "</table>\n",
       "</div>"
      ],
      "text/plain": [
       "                 PC1       PC2       PC3       PC4       PC5       PC6  \\\n",
       "feature                                                                  \n",
       "yummy      -0.406955  0.282615 -0.259588  0.026237  0.346857 -0.124916   \n",
       "convenient -0.308827 -0.045682 -0.317151 -0.009424 -0.437148  0.188966   \n",
       "spicy      -0.023320  0.069982  0.020170  0.845496 -0.185551  0.438661   \n",
       "fattening   0.177861 -0.205590 -0.608077 -0.023396  0.086934  0.107520   \n",
       "greasy      0.267796 -0.136300 -0.389568  0.330854  0.343713 -0.278329   \n",
       "fast       -0.213039 -0.282441 -0.211395  0.090363 -0.568939 -0.572734   \n",
       "cheap      -0.289134 -0.575032  0.125157  0.114477  0.256981  0.020657   \n",
       "tasty      -0.426115  0.242199 -0.269648  0.072691  0.286099 -0.053053   \n",
       "expensive   0.290944  0.567528 -0.183298  0.035510 -0.207362 -0.171160   \n",
       "healthy    -0.266839  0.201031  0.367814  0.301990  0.051787 -0.446166   \n",
       "disgusting  0.410744 -0.143888  0.090299  0.235231  0.105843 -0.328041   \n",
       "\n",
       "                 PC7       PC8       PC9      PC10      PC11  \n",
       "feature                                                       \n",
       "yummy       0.159878  0.016587 -0.195341  0.691446 -0.091851  \n",
       "convenient -0.661814  0.150033 -0.336539  0.028831  0.021460  \n",
       "spicy       0.214188 -0.027835  0.025239  0.058187 -0.041960  \n",
       "fattening  -0.023851 -0.720478  0.105052 -0.020311 -0.074626  \n",
       "greasy     -0.307300  0.487275  0.346137 -0.015160 -0.031047  \n",
       "fast        0.392436  0.055976  0.099235  0.017917 -0.054448  \n",
       "cheap      -0.008895 -0.064667 -0.062027  0.060323  0.691923  \n",
       "tasty       0.197364  0.059289 -0.213587 -0.713426  0.006426  \n",
       "expensive   0.015198 -0.061727 -0.009675  0.029581  0.693614  \n",
       "healthy    -0.449446 -0.446110  0.219269 -0.054544 -0.089903  \n",
       "disgusting -0.017070 -0.079122 -0.780777 -0.016028 -0.108920  "
      ]
     },
     "execution_count": 12,
     "metadata": {},
     "output_type": "execute_result"
    }
   ],
   "source": [
    "loadings = pca.components_\n",
    "num_pc = pca.n_features_\n",
    "pc_list = [\"PC\"+str(i) for i in list(range(1, num_pc+1))]\n",
    "loadings_df = pd.DataFrame.from_dict(dict(zip(pc_list, loadings)))\n",
    "loadings_df['feature'] = data_encoded.columns.values\n",
    "loadings_df = loadings_df.set_index('feature')\n",
    "loadings_df"
   ]
  },
  {
   "cell_type": "code",
   "execution_count": 13,
   "id": "cd99cdf5",
   "metadata": {
    "execution": {
     "iopub.execute_input": "2023-06-07T16:47:37.836265Z",
     "iopub.status.busy": "2023-06-07T16:47:37.835458Z",
     "iopub.status.idle": "2023-06-07T16:47:38.792880Z",
     "shell.execute_reply": "2023-06-07T16:47:38.793462Z",
     "shell.execute_reply.started": "2023-06-07T16:20:46.558328Z"
    },
    "papermill": {
     "duration": 1.005595,
     "end_time": "2023-06-07T16:47:38.793681",
     "exception": false,
     "start_time": "2023-06-07T16:47:37.788086",
     "status": "completed"
    },
    "tags": []
   },
   "outputs": [
    {
     "data": {
      "image/png": "[encoded data removed]",
      "text/plain": [
       "<Figure size 648x648 with 2 Axes>"
      ]
     },
     "metadata": {
      "needs_background": "light"
     },
     "output_type": "display_data"
    }
   ],
   "source": [
    "plt.rcParams['figure.figsize'] = (9, 9)\n",
    "ax = sns.heatmap(loadings_df, annot=True, cmap='coolwarm', fmt='.2f', linewidths=0.5)\n",
    "ax.set_title('Correlation Matrix')\n",
    "plt.show()"
   ]
  },
  {
   "cell_type": "code",
   "execution_count": 14,
   "id": "021e1894",
   "metadata": {
    "execution": {
     "iopub.execute_input": "2023-06-07T16:47:38.881855Z",
     "iopub.status.busy": "2023-06-07T16:47:38.881068Z",
     "iopub.status.idle": "2023-06-07T16:47:39.246103Z",
     "shell.execute_reply": "2023-06-07T16:47:39.246721Z",
     "shell.execute_reply.started": "2023-06-07T16:21:07.628711Z"
    },
    "papermill": {
     "duration": 0.41116,
     "end_time": "2023-06-07T16:47:39.246920",
     "exception": false,
     "start_time": "2023-06-07T16:47:38.835760",
     "status": "completed"
    },
    "tags": []
   },
   "outputs": [
    {
     "data": {
      "image/png": "[encoded data removed]",
      "text/plain": [
       "<Figure size 720x360 with 1 Axes>"
      ]
     },
     "metadata": {
      "needs_background": "light"
     },
     "output_type": "display_data"
    }
   ],
   "source": [
    "from bioinfokit.visuz import cluster\n",
    "pca_scores = PCA().fit_transform(pca_data)\n",
    "\n",
    "# get 2D biplot\n",
    "cluster.biplot(cscore=pca_scores, loadings=loadings, labels=data.columns.values, \n",
    "               var1=round(pca.explained_variance_ratio_[0]*100, 2),\n",
    "    var2=round(pca.explained_variance_ratio_[1]*100, 2),show=True,dim=(10,5))"
   ]
  },
  {
   "cell_type": "code",
   "execution_count": 15,
   "id": "43a78625",
   "metadata": {
    "execution": {
     "iopub.execute_input": "2023-06-07T16:47:39.340112Z",
     "iopub.status.busy": "2023-06-07T16:47:39.339250Z",
     "iopub.status.idle": "2023-06-07T16:47:54.894014Z",
     "shell.execute_reply": "2023-06-07T16:47:54.894597Z",
     "shell.execute_reply.started": "2023-06-07T16:21:19.654996Z"
    },
    "papermill": {
     "duration": 15.604572,
     "end_time": "2023-06-07T16:47:54.894823",
     "exception": false,
     "start_time": "2023-06-07T16:47:39.290251",
     "status": "completed"
    },
    "tags": []
   },
   "outputs": [
    {
     "data": {
      "image/png": "[encoded data removed]",
      "text/plain": [
       "<Figure size 576x396 with 2 Axes>"
      ]
     },
     "metadata": {},
     "output_type": "display_data"
    },
    {
     "data": {
      "text/plain": [
       "<AxesSubplot:title={'center':'Distortion Score Elbow for KMeans Clustering'}, xlabel='k', ylabel='distortion score'>"
      ]
     },
     "execution_count": 15,
     "metadata": {},
     "output_type": "execute_result"
    }
   ],
   "source": [
    "from sklearn.cluster import KMeans\n",
    "from yellowbrick.cluster import KElbowVisualizer\n",
    "# using k-means clustering analysis for extracting segments\n",
    "model = KMeans(n_init=10)  # Explicitly set n_init to 10\n",
    "visualizer = KElbowVisualizer(model, k=(1, 12)).fit(data_encoded)\n",
    "visualizer.show()"
   ]
  },
  {
   "cell_type": "code",
   "execution_count": 16,
   "id": "224e7093",
   "metadata": {
    "execution": {
     "iopub.execute_input": "2023-06-07T16:47:55.006624Z",
     "iopub.status.busy": "2023-06-07T16:47:55.005509Z",
     "iopub.status.idle": "2023-06-07T16:47:55.038793Z",
     "shell.execute_reply": "2023-06-07T16:47:55.039976Z",
     "shell.execute_reply.started": "2023-06-07T16:22:37.753790Z"
    },
    "papermill": {
     "duration": 0.092591,
     "end_time": "2023-06-07T16:47:55.040212",
     "exception": false,
     "start_time": "2023-06-07T16:47:54.947621",
     "status": "completed"
    },
    "tags": []
   },
   "outputs": [],
   "source": [
    "from collections import Counter\n",
    "from statsmodels.graphics.mosaicplot import mosaic\n",
    "from itertools import product"
   ]
  },
  {
   "cell_type": "code",
   "execution_count": 17,
   "id": "604e7fee",
   "metadata": {
    "execution": {
     "iopub.execute_input": "2023-06-07T16:47:55.156814Z",
     "iopub.status.busy": "2023-06-07T16:47:55.155755Z",
     "iopub.status.idle": "2023-06-07T16:47:56.354463Z",
     "shell.execute_reply": "2023-06-07T16:47:56.355564Z",
     "shell.execute_reply.started": "2023-06-07T16:23:35.108635Z"
    },
    "papermill": {
     "duration": 1.261114,
     "end_time": "2023-06-07T16:47:56.355788",
     "exception": false,
     "start_time": "2023-06-07T16:47:55.094674",
     "status": "completed"
    },
    "tags": []
   },
   "outputs": [
    {
     "name": "stdout",
     "output_type": "stream",
     "text": [
      "Labels: [3 0 0 ... 0 1 2]\n",
      "WCSS: 1603.5029251924634\n",
      "No. of iterations:  9\n",
      "Cluster centroids:  [[0.87619048 0.96825397 0.13650794 0.90793651 0.60952381 0.85714286\n",
      "  0.11111111 0.93015873 0.91428571 0.20952381 0.10793651]\n",
      " [0.88793103 0.98103448 0.0862069  0.79482759 0.32931034 0.96034483\n",
      "  0.92241379 0.97586207 0.01724138 0.32068966 0.04310345]\n",
      " [0.0173913  0.64782609 0.07826087 0.90869565 0.70434783 0.73043478\n",
      "  0.07391304 0.09565217 0.95217391 0.06521739 0.7       ]\n",
      " [0.02439024 0.90243902 0.07621951 0.92682927 0.67073171 0.95426829\n",
      "  0.86280488 0.16768293 0.00914634 0.06707317 0.4054878 ]]\n",
      "Cluster size:  Counter({1: 580, 3: 328, 0: 315, 2: 230})\n"
     ]
    }
   ],
   "source": [
    "# k-means clustering \n",
    "kmeans = KMeans(n_clusters=4, init='k-means++', random_state=0).fit(data_encoded)\n",
    "data['cluster_num'] = kmeans.labels_ #adding to df\n",
    "# label for each data point\n",
    "print ('Labels:', kmeans.labels_)\n",
    "print ('WCSS:', kmeans.inertia_)\n",
    "# number of iterations\n",
    "print('No. of iterations: ', kmeans.n_iter_)\n",
    "# location of the centroids on each cluster\n",
    "print('Cluster centroids: ', kmeans.cluster_centers_)\n",
    "# checking each cluster size\n",
    "print('Cluster size: ', Counter(kmeans.labels_))"
   ]
  },
  {
   "cell_type": "code",
   "execution_count": 18,
   "id": "8882b132",
   "metadata": {
    "execution": {
     "iopub.execute_input": "2023-06-07T16:47:56.474475Z",
     "iopub.status.busy": "2023-06-07T16:47:56.473666Z",
     "iopub.status.idle": "2023-06-07T16:47:57.184682Z",
     "shell.execute_reply": "2023-06-07T16:47:57.185765Z",
     "shell.execute_reply.started": "2023-06-07T16:24:40.740315Z"
    },
    "papermill": {
     "duration": 0.777143,
     "end_time": "2023-06-07T16:47:57.185989",
     "exception": false,
     "start_time": "2023-06-07T16:47:56.408846",
     "status": "completed"
    },
    "tags": []
   },
   "outputs": [
    {
     "data": {
      "image/png": "[encoded data removed]",
      "text/plain": [
       "<Figure size 504x504 with 3 Axes>"
      ]
     },
     "metadata": {},
     "output_type": "display_data"
    }
   ],
   "source": [
    "# crosstab creation\n",
    "crosstab = pd.crosstab(data['cluster_num'], data['Like'])\n",
    "crosstab = crosstab[['I hate it!-5','-4','-3','-2','-1','0','+1','+2','+3','+4','I love it!+5']]\n",
    "crosstab\n",
    "from statsmodels.graphics.mosaicplot import mosaic\n",
    "\n",
    "plt.rcParams['figure.figsize'] = (7, 7)\n",
    "colors = ['skyblue', 'lightblue', 'limegreen', 'lightgreen', 'pink', 'gray', 'purple', 'violet', 'gold', 'orange', 'red']\n",
    "mosaic(crosstab.stack())\n",
    "\n",
    "# Customize the colors of the bars\n",
    "for i, patch in enumerate(plt.gca().patches):\n",
    "    patch.set_facecolor(colors[i % len(colors)])\n",
    "\n",
    "plt.show()"
   ]
  },
  {
   "cell_type": "code",
   "execution_count": 19,
   "id": "33d76e01",
   "metadata": {
    "execution": {
     "iopub.execute_input": "2023-06-07T16:47:57.320569Z",
     "iopub.status.busy": "2023-06-07T16:47:57.319747Z",
     "iopub.status.idle": "2023-06-07T16:47:57.634088Z",
     "shell.execute_reply": "2023-06-07T16:47:57.635230Z",
     "shell.execute_reply.started": "2023-06-07T16:25:49.584878Z"
    },
    "papermill": {
     "duration": 0.389998,
     "end_time": "2023-06-07T16:47:57.635629",
     "exception": false,
     "start_time": "2023-06-07T16:47:57.245631",
     "status": "completed"
    },
    "tags": []
   },
   "outputs": [
    {
     "data": {
      "image/png": "[encoded data removed]",
      "text/plain": [
       "<Figure size 504x360 with 3 Axes>"
      ]
     },
     "metadata": {},
     "output_type": "display_data"
    }
   ],
   "source": [
    "\n",
    "crosstab_gender =pd.crosstab(data['cluster_num'],data['Gender'])\n",
    "crosstab_gender\n",
    "plt.rcParams['figure.figsize'] = (7,5)\n",
    "mosaic(crosstab_gender.stack())\n",
    "plt.show()"
   ]
  },
  {
   "cell_type": "code",
   "execution_count": 20,
   "id": "37f2fd28",
   "metadata": {
    "execution": {
     "iopub.execute_input": "2023-06-07T16:47:57.749405Z",
     "iopub.status.busy": "2023-06-07T16:47:57.748657Z",
     "iopub.status.idle": "2023-06-07T16:47:58.026256Z",
     "shell.execute_reply": "2023-06-07T16:47:58.026858Z",
     "shell.execute_reply.started": "2023-06-07T16:26:12.301199Z"
    },
    "papermill": {
     "duration": 0.329832,
     "end_time": "2023-06-07T16:47:58.027054",
     "exception": false,
     "start_time": "2023-06-07T16:47:57.697222",
     "status": "completed"
    },
    "tags": []
   },
   "outputs": [
    {
     "data": {
      "text/plain": [
       "<AxesSubplot:xlabel='cluster_num', ylabel='Age'>"
      ]
     },
     "execution_count": 20,
     "metadata": {},
     "output_type": "execute_result"
    },
    {
     "data": {
      "image/png": "[encoded data removed]",
      "text/plain": [
       "<Figure size 504x360 with 1 Axes>"
      ]
     },
     "metadata": {},
     "output_type": "display_data"
    }
   ],
   "source": [
    "sns.boxplot(x=\"cluster_num\", y=\"Age\", data=data)"
   ]
  },
  {
   "cell_type": "code",
   "execution_count": 21,
   "id": "b411b961",
   "metadata": {
    "execution": {
     "iopub.execute_input": "2023-06-07T16:47:58.131689Z",
     "iopub.status.busy": "2023-06-07T16:47:58.130928Z",
     "iopub.status.idle": "2023-06-07T16:47:58.148480Z",
     "shell.execute_reply": "2023-06-07T16:47:58.149159Z",
     "shell.execute_reply.started": "2023-06-07T16:27:01.435042Z"
    },
    "papermill": {
     "duration": 0.07145,
     "end_time": "2023-06-07T16:47:58.149363",
     "exception": false,
     "start_time": "2023-06-07T16:47:58.077913",
     "status": "completed"
    },
    "tags": []
   },
   "outputs": [
    {
     "data": {
      "text/html": [
       "<div>\n",
       "<style scoped>\n",
       "    .dataframe tbody tr th:only-of-type {\n",
       "        vertical-align: middle;\n",
       "    }\n",
       "\n",
       "    .dataframe tbody tr th {\n",
       "        vertical-align: top;\n",
       "    }\n",
       "\n",
       "    .dataframe thead th {\n",
       "        text-align: right;\n",
       "    }\n",
       "</style>\n",
       "<table border=\"1\" class=\"dataframe\">\n",
       "  <thead>\n",
       "    <tr style=\"text-align: right;\">\n",
       "      <th></th>\n",
       "      <th>cluster_num</th>\n",
       "      <th>VisitFrequency</th>\n",
       "    </tr>\n",
       "  </thead>\n",
       "  <tbody>\n",
       "    <tr>\n",
       "      <th>0</th>\n",
       "      <td>0</td>\n",
       "      <td>2.542857</td>\n",
       "    </tr>\n",
       "    <tr>\n",
       "      <th>1</th>\n",
       "      <td>1</td>\n",
       "      <td>2.584483</td>\n",
       "    </tr>\n",
       "    <tr>\n",
       "      <th>2</th>\n",
       "      <td>2</td>\n",
       "      <td>2.686957</td>\n",
       "    </tr>\n",
       "    <tr>\n",
       "      <th>3</th>\n",
       "      <td>3</td>\n",
       "      <td>2.789634</td>\n",
       "    </tr>\n",
       "  </tbody>\n",
       "</table>\n",
       "</div>"
      ],
      "text/plain": [
       "   cluster_num  VisitFrequency\n",
       "0            0        2.542857\n",
       "1            1        2.584483\n",
       "2            2        2.686957\n",
       "3            3        2.789634"
      ]
     },
     "execution_count": 21,
     "metadata": {},
     "output_type": "execute_result"
    }
   ],
   "source": [
    "data['VisitFrequency'] = LabelEncoder().fit_transform(data['VisitFrequency'])\n",
    "visit = data.groupby('cluster_num')['VisitFrequency'].mean()\n",
    "visit = visit.to_frame().reset_index()\n",
    "visit\n",
    "     "
   ]
  },
  {
   "cell_type": "code",
   "execution_count": 22,
   "id": "dd90279e",
   "metadata": {
    "execution": {
     "iopub.execute_input": "2023-06-07T16:47:58.265811Z",
     "iopub.status.busy": "2023-06-07T16:47:58.264884Z",
     "iopub.status.idle": "2023-06-07T16:47:58.285746Z",
     "shell.execute_reply": "2023-06-07T16:47:58.286847Z",
     "shell.execute_reply.started": "2023-06-07T16:27:38.194052Z"
    },
    "papermill": {
     "duration": 0.085219,
     "end_time": "2023-06-07T16:47:58.287223",
     "exception": false,
     "start_time": "2023-06-07T16:47:58.202004",
     "status": "completed"
    },
    "tags": []
   },
   "outputs": [
    {
     "data": {
      "text/html": [
       "<div>\n",
       "<style scoped>\n",
       "    .dataframe tbody tr th:only-of-type {\n",
       "        vertical-align: middle;\n",
       "    }\n",
       "\n",
       "    .dataframe tbody tr th {\n",
       "        vertical-align: top;\n",
       "    }\n",
       "\n",
       "    .dataframe thead th {\n",
       "        text-align: right;\n",
       "    }\n",
       "</style>\n",
       "<table border=\"1\" class=\"dataframe\">\n",
       "  <thead>\n",
       "    <tr style=\"text-align: right;\">\n",
       "      <th></th>\n",
       "      <th>cluster_num</th>\n",
       "      <th>Gender</th>\n",
       "    </tr>\n",
       "  </thead>\n",
       "  <tbody>\n",
       "    <tr>\n",
       "      <th>0</th>\n",
       "      <td>0</td>\n",
       "      <td>0.520635</td>\n",
       "    </tr>\n",
       "    <tr>\n",
       "      <th>1</th>\n",
       "      <td>1</td>\n",
       "      <td>0.398276</td>\n",
       "    </tr>\n",
       "    <tr>\n",
       "      <th>2</th>\n",
       "      <td>2</td>\n",
       "      <td>0.582609</td>\n",
       "    </tr>\n",
       "    <tr>\n",
       "      <th>3</th>\n",
       "      <td>3</td>\n",
       "      <td>0.414634</td>\n",
       "    </tr>\n",
       "  </tbody>\n",
       "</table>\n",
       "</div>"
      ],
      "text/plain": [
       "   cluster_num    Gender\n",
       "0            0  0.520635\n",
       "1            1  0.398276\n",
       "2            2  0.582609\n",
       "3            3  0.414634"
      ]
     },
     "execution_count": 22,
     "metadata": {},
     "output_type": "execute_result"
    }
   ],
   "source": [
    "data['Gender'] = LabelEncoder().fit_transform(data['Gender'])\n",
    "Gender = data.groupby('cluster_num')['Gender'].mean()\n",
    "Gender = Gender.to_frame().reset_index()\n",
    "Gender\n",
    "     "
   ]
  },
  {
   "cell_type": "code",
   "execution_count": 23,
   "id": "d7a56319",
   "metadata": {
    "execution": {
     "iopub.execute_input": "2023-06-07T16:47:58.405301Z",
     "iopub.status.busy": "2023-06-07T16:47:58.404552Z",
     "iopub.status.idle": "2023-06-07T16:47:58.418290Z",
     "shell.execute_reply": "2023-06-07T16:47:58.418892Z",
     "shell.execute_reply.started": "2023-06-07T16:28:08.460230Z"
    },
    "papermill": {
     "duration": 0.068838,
     "end_time": "2023-06-07T16:47:58.419079",
     "exception": false,
     "start_time": "2023-06-07T16:47:58.350241",
     "status": "completed"
    },
    "tags": []
   },
   "outputs": [
    {
     "data": {
      "text/html": [
       "<div>\n",
       "<style scoped>\n",
       "    .dataframe tbody tr th:only-of-type {\n",
       "        vertical-align: middle;\n",
       "    }\n",
       "\n",
       "    .dataframe tbody tr th {\n",
       "        vertical-align: top;\n",
       "    }\n",
       "\n",
       "    .dataframe thead th {\n",
       "        text-align: right;\n",
       "    }\n",
       "</style>\n",
       "<table border=\"1\" class=\"dataframe\">\n",
       "  <thead>\n",
       "    <tr style=\"text-align: right;\">\n",
       "      <th></th>\n",
       "      <th>cluster_num</th>\n",
       "      <th>Like</th>\n",
       "    </tr>\n",
       "  </thead>\n",
       "  <tbody>\n",
       "    <tr>\n",
       "      <th>0</th>\n",
       "      <td>0</td>\n",
       "      <td>3.780952</td>\n",
       "    </tr>\n",
       "    <tr>\n",
       "      <th>1</th>\n",
       "      <td>1</td>\n",
       "      <td>3.794828</td>\n",
       "    </tr>\n",
       "    <tr>\n",
       "      <th>2</th>\n",
       "      <td>2</td>\n",
       "      <td>6.730435</td>\n",
       "    </tr>\n",
       "    <tr>\n",
       "      <th>3</th>\n",
       "      <td>3</td>\n",
       "      <td>5.478659</td>\n",
       "    </tr>\n",
       "  </tbody>\n",
       "</table>\n",
       "</div>"
      ],
      "text/plain": [
       "   cluster_num      Like\n",
       "0            0  3.780952\n",
       "1            1  3.794828\n",
       "2            2  6.730435\n",
       "3            3  5.478659"
      ]
     },
     "execution_count": 23,
     "metadata": {},
     "output_type": "execute_result"
    }
   ],
   "source": [
    "data['Like'] = LabelEncoder().fit_transform(data['Like'])\n",
    "Like = data.groupby('cluster_num')['Like'].mean()\n",
    "Like = Like.to_frame().reset_index()\n",
    "Like"
   ]
  },
  {
   "cell_type": "code",
   "execution_count": 24,
   "id": "9e2e41f3",
   "metadata": {
    "execution": {
     "iopub.execute_input": "2023-06-07T16:47:58.526880Z",
     "iopub.status.busy": "2023-06-07T16:47:58.526109Z",
     "iopub.status.idle": "2023-06-07T16:47:58.546252Z",
     "shell.execute_reply": "2023-06-07T16:47:58.545536Z",
     "shell.execute_reply.started": "2023-06-07T16:28:35.718656Z"
    },
    "papermill": {
     "duration": 0.075192,
     "end_time": "2023-06-07T16:47:58.546445",
     "exception": false,
     "start_time": "2023-06-07T16:47:58.471253",
     "status": "completed"
    },
    "tags": []
   },
   "outputs": [
    {
     "data": {
      "text/html": [
       "<div>\n",
       "<style scoped>\n",
       "    .dataframe tbody tr th:only-of-type {\n",
       "        vertical-align: middle;\n",
       "    }\n",
       "\n",
       "    .dataframe tbody tr th {\n",
       "        vertical-align: top;\n",
       "    }\n",
       "\n",
       "    .dataframe thead th {\n",
       "        text-align: right;\n",
       "    }\n",
       "</style>\n",
       "<table border=\"1\" class=\"dataframe\">\n",
       "  <thead>\n",
       "    <tr style=\"text-align: right;\">\n",
       "      <th></th>\n",
       "      <th>cluster_num</th>\n",
       "      <th>Gender</th>\n",
       "      <th>Like</th>\n",
       "      <th>VisitFrequency</th>\n",
       "    </tr>\n",
       "  </thead>\n",
       "  <tbody>\n",
       "    <tr>\n",
       "      <th>0</th>\n",
       "      <td>0</td>\n",
       "      <td>0.520635</td>\n",
       "      <td>3.780952</td>\n",
       "      <td>2.542857</td>\n",
       "    </tr>\n",
       "    <tr>\n",
       "      <th>1</th>\n",
       "      <td>1</td>\n",
       "      <td>0.398276</td>\n",
       "      <td>3.794828</td>\n",
       "      <td>2.584483</td>\n",
       "    </tr>\n",
       "    <tr>\n",
       "      <th>2</th>\n",
       "      <td>2</td>\n",
       "      <td>0.582609</td>\n",
       "      <td>6.730435</td>\n",
       "      <td>2.686957</td>\n",
       "    </tr>\n",
       "    <tr>\n",
       "      <th>3</th>\n",
       "      <td>3</td>\n",
       "      <td>0.414634</td>\n",
       "      <td>5.478659</td>\n",
       "      <td>2.789634</td>\n",
       "    </tr>\n",
       "  </tbody>\n",
       "</table>\n",
       "</div>"
      ],
      "text/plain": [
       "   cluster_num    Gender      Like  VisitFrequency\n",
       "0            0  0.520635  3.780952        2.542857\n",
       "1            1  0.398276  3.794828        2.584483\n",
       "2            2  0.582609  6.730435        2.686957\n",
       "3            3  0.414634  5.478659        2.789634"
      ]
     },
     "execution_count": 24,
     "metadata": {},
     "output_type": "execute_result"
    }
   ],
   "source": [
    "segment = Gender.merge(Like, on='cluster_num', how='left').merge(visit, on='cluster_num', how='left')\n",
    "segment"
   ]
  },
  {
   "cell_type": "code",
   "execution_count": 25,
   "id": "481d3373",
   "metadata": {
    "execution": {
     "iopub.execute_input": "2023-06-07T16:47:58.700419Z",
     "iopub.status.busy": "2023-06-07T16:47:58.699315Z",
     "iopub.status.idle": "2023-06-07T16:47:58.924097Z",
     "shell.execute_reply": "2023-06-07T16:47:58.923334Z",
     "shell.execute_reply.started": "2023-06-07T16:28:49.789005Z"
    },
    "papermill": {
     "duration": 0.324867,
     "end_time": "2023-06-07T16:47:58.924267",
     "exception": false,
     "start_time": "2023-06-07T16:47:58.599400",
     "status": "completed"
    },
    "tags": []
   },
   "outputs": [
    {
     "data": {
      "image/png": "[encoded data removed]",
      "text/plain": [
       "<Figure size 648x288 with 1 Axes>"
      ]
     },
     "metadata": {},
     "output_type": "display_data"
    }
   ],
   "source": [
    "plt.figure(figsize = (9,4))\n",
    "sns.scatterplot(x = \"VisitFrequency\", y = \"Like\",data=segment,s=400, color=\"r\")\n",
    "plt.title(\"Simple segment evaluation plot for the fast food data set\", fontsize = 15) \n",
    "plt.xlabel(\"Visit\", fontsize = 12) \n",
    "plt.ylabel(\"Like\", fontsize = 12) \n",
    "plt.show()"
   ]
  },
  {
   "cell_type": "code",
   "execution_count": null,
   "id": "03fb0659",
   "metadata": {
    "papermill": {
     "duration": 0.054492,
     "end_time": "2023-06-07T16:47:59.032596",
     "exception": false,
     "start_time": "2023-06-07T16:47:58.978104",
     "status": "completed"
    },
    "tags": []
   },
   "outputs": [],
   "source": []
  }
 ],
 "metadata": {
  "kernelspec": {
   "display_name": "Python 3",
   "language": "python",
   "name": "python3"
  },
  "language_info": {
   "codemirror_mode": {
    "name": "ipython",
    "version": 3
   },
   "file_extension": ".py",
   "mimetype": "text/x-python",
   "name": "python",
   "nbconvert_exporter": "python",
   "pygments_lexer": "ipython3",
   "version": "3.7.12"
  },
  "papermill": {
   "default_parameters": {},
   "duration": 53.971226,
   "end_time": "2023-06-07T16:47:59.999854",
   "environment_variables": {},
   "exception": null,
   "input_path": "__notebook__.ipynb",
   "output_path": "__notebook__.ipynb",
   "parameters": {},
   "start_time": "2023-06-07T16:47:06.028628",
   "version": "2.3.3"
  }
 },
 "nbformat": 4,
 "nbformat_minor": 5
}
